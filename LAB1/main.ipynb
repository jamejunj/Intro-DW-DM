{
 "cells": [
  {
   "cell_type": "code",
   "execution_count": 2,
   "metadata": {},
   "outputs": [],
   "source": [
    "import pandas as pd\n",
    "\n",
    "productSrc1 = pd.read_excel('ETLDataSource1.xlsx', sheet_name='productSource1')\n",
    "orderSrc1 = pd.read_excel('ETLDataSource1.xlsx', sheet_name='orderSource1')\n",
    "stateAbbriv = pd.read_excel('ETLDataSource1.xlsx', sheet_name='StateLookup')\n",
    "\n",
    "productSrc2 = pd.read_excel('ETLDataSource2.xlsx', sheet_name='productSource2')\n",
    "orderSrc2 = pd.read_excel('ETLDataSource2.xlsx', sheet_name='orderSource2')"
   ]
  },
  {
   "cell_type": "code",
   "execution_count": 3,
   "metadata": {},
   "outputs": [],
   "source": [
    "joinedSrc1 = pd.merge(productSrc1, orderSrc1, on='OrderID', how='inner')\n",
    "\n",
    "joinedSrc1['CustomerState'] = joinedSrc1['CustomerState'].map(stateAbbriv.set_index('Abbreviation')['State'].to_dict())\n",
    "\n",
    "joinedSrc1.reindex(sorted(joinedSrc1.columns), axis=1)\n",
    "\n",
    "joinedSrc2 = pd.merge(productSrc2, orderSrc2, on='OrderID', how='inner')\n",
    "\n",
    "joinedSrc2['OrderID'] = joinedSrc2['OrderID'].replace('A', '', regex=True)\n",
    "\n",
    "joinedSrc2['TotalDiscount'] = joinedSrc2['FullPrice'].astype(float) - joinedSrc2['ExtendedPrice'].astype(float)\n",
    "\n",
    "joinedSrc2['CustomerName'] = joinedSrc2['CustomerFirstName'].astype(str) + ' ' + joinedSrc2['CustomerLastName'].astype(str)\n",
    "\n",
    "joinedSrc2 = joinedSrc2.drop(['CustomerFirstName','CustomerLastName'], axis=1)\n",
    "\n",
    "joinedSrc2.reindex(sorted(joinedSrc2.columns), axis=1)\n",
    "\n",
    "new = pd.concat([joinedSrc1, joinedSrc2])\n",
    "\n",
    "desired_index = ['OrderID', 'OrderDate', 'CustomerName', 'CustomerCity', 'CustomerState', 'CustomerStatus', 'ProductID', 'Product', 'UnitPrice', 'Quantity', 'FullPrice', 'ExtendedPrice', 'Discount', 'TotalDiscount']\n",
    "\n",
    "new = new.reindex(desired_index, axis=1)\n",
    "\n",
    "new.to_excel('PDOutput.xlsx', index=False)"
   ]
  },
  {
   "cell_type": "code",
   "execution_count": 148,
   "metadata": {},
   "outputs": [
    {
     "name": "stdout",
     "output_type": "stream",
     "text": [
      "   ProductID                 Product  UnitPrice  Quantity  Discount  \\\n",
      "0          2                   Chang       15.2        50       0.2   \n",
      "1         32      Mascarpone Fabioli       25.6         6       0.2   \n",
      "2          5  Chef Anton's Gumbo Mix       17.0        65       0.2   \n",
      "3         21     Sir Rodney's Scones        8.0        10       0.0   \n",
      "4         37              Gravad lax       20.8         1       0.0   \n",
      "\n",
      "   FullPrice  ExtendedPrice  TotalDiscount OrderID CustomerCity  \\\n",
      "0      760.0         608.00         152.00   10258  Kansas City   \n",
      "1      153.6         122.88          30.72   10258  Kansas City   \n",
      "2     1105.0         884.00         221.00   10258  Kansas City   \n",
      "3       80.0          80.00           0.00   10259   Greensboro   \n",
      "4       20.8          20.80           0.00   10259   Greensboro   \n",
      "\n",
      "    CustomerState  CustomerStatus  OrderDate         CustomerName  \n",
      "0          Kansas               2 2011-01-11  Milagros Fehrenbach  \n",
      "1          Kansas               2 2011-01-11  Milagros Fehrenbach  \n",
      "2          Kansas               2 2011-01-11  Milagros Fehrenbach  \n",
      "3  North Carolina               3 2011-01-11        Julio Willard  \n",
      "4  North Carolina               3 2011-01-11        Julio Willard  \n"
     ]
    }
   ],
   "source": [
    "print(joinedSrc2.head())"
   ]
  },
  {
   "cell_type": "code",
   "execution_count": null,
   "metadata": {},
   "outputs": [],
   "source": []
  }
 ],
 "metadata": {
  "kernelspec": {
   "display_name": "Python 3.10.4 64-bit",
   "language": "python",
   "name": "python3"
  },
  "language_info": {
   "codemirror_mode": {
    "name": "ipython",
    "version": 3
   },
   "file_extension": ".py",
   "mimetype": "text/x-python",
   "name": "python",
   "nbconvert_exporter": "python",
   "pygments_lexer": "ipython3",
   "version": "3.10.4"
  },
  "orig_nbformat": 4,
  "vscode": {
   "interpreter": {
    "hash": "df95319d8ce4e1d89f5365ae10992bc1f65da593082b1d264e8f529830ec2f02"
   }
  }
 },
 "nbformat": 4,
 "nbformat_minor": 2
}
